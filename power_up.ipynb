{
 "cells": [
  {
   "cell_type": "code",
   "metadata": {
    "collapsed": true,
    "pycharm": {
     "name": "#%%\n"
    }
   },
   "source": [
    "from pypowerup import effect_size, power, sample_size\n",
    "\n",
    "\n",
    "# sample_size, i.e., minimum required samples sizes (MRSS) for level 3 units\n",
    "sample_size(design=\"its_wcompare\", es=0.44803335835368546, rho2=0.03, T=5, n=75, r22=0, tf=2, g=0, q=2)"
   ],
   "execution_count": 1,
   "outputs": [
    {
     "data": {
      "text/plain": "10"
     },
     "execution_count": 1,
     "metadata": {},
     "output_type": "execute_result"
    }
   ]
  },
  {
   "cell_type": "code",
   "execution_count": 3,
   "outputs": [
    {
     "data": {
      "text/plain": "4"
     },
     "execution_count": 3,
     "metadata": {},
     "output_type": "execute_result"
    }
   ],
   "source": [
    "DESIGN = \"its_wcompare\" # Interrupted Time Series With Comparison Group\n",
    "ES = 0.25               # Minimum detectable effect size\n",
    "RHO2 = 0.0              # Proportion of variance in outcome among Level 2 units.\n",
    "T = 36                  # The number of baseline periods. The number of periods prior to intervention for which the baseline, or pre-intervention, trend is established.\n",
    "N = 75                  # Number of level 1 units or average Sample Size for Level 1. For example, if the design is IRA, n is the total sample size of both treatment and control group.\n",
    "R22 = 0                 # Proportion of variance in Level 2 outcome explained by Level 2 covariates.\n",
    "TF = 2                  # Period in which the outcomes are to be compared (i.e., “0” would indicate the period that treatment occurs; “1” would indicate the first period following the treatment).\n",
    "G = 0                   # Number of covariates at the highest level\n",
    "Q = 1                   # Ratio of comparison units to experimental units (q). (# comparison groups / # program groups) at block level.\n",
    "\n",
    "sample_size(design=DESIGN, es=ES, rho2=RHO2, T=T, n=N, r22=R22, tf=TF, g=G, q=Q)"
   ],
   "metadata": {
    "collapsed": false,
    "pycharm": {
     "name": "#%%\n"
    }
   }
  },
  {
   "cell_type": "code",
   "execution_count": 31,
   "outputs": [
    {
     "data": {
      "text/plain": "'Power: 0.989 | Sample Size: 12 | Effect Size: 0.165'"
     },
     "execution_count": 31,
     "metadata": {},
     "output_type": "execute_result"
    }
   ],
   "source": [
    "DESIGN = \"its_wcompare\" # Interrupted Time Series With Comparison Group\n",
    "ES = 0.25               # Minimum detectable effect size\n",
    "RHO2 = 0.001            # Proportion of variance in outcome among Level 2 units.\n",
    "T = 9                   # The number of baseline periods. The number of periods prior to intervention for which the baseline, or pre-intervention, trend is established.\n",
    "N = 120                 # Number of level 1 units or average Sample Size for Level 1. For example, if the design is IRA, n is the total sample size of both treatment and control group.\n",
    "K = 12                  # Number of level 3 units or average Sample Size for Level 3.\n",
    "R22 = 0                 # Proportion of variance in Level 2 outcome explained by Level 2 covariates.\n",
    "TF = 3                  # Period in which the outcomes are to be compared (i.e., “0” would indicate the period that treatment occurs; “1” would indicate the first period following the treatment).\n",
    "G = 2                   # Number of covariates at the highest level\n",
    "Q = 1                   # Ratio of comparison units to experimental units (q). (# comparison groups / # program groups) at block level.\n",
    "\n",
    "pwr = power(design=DESIGN, es=ES, rho2=RHO2, T=T, n=N, K=K, r22=R22, tf=TF, g=G, q=Q)\n",
    "\n",
    "# sample_size, i.e., minimum required samples sizes (MRSS) for level 3 units\n",
    "ssz = sample_size(design=DESIGN, power=pwr, es=ES, n=N, rho2=RHO2, T=T, r22=R22, tf=TF, g=G, q=Q)\n",
    "\n",
    "# effect size, i.e., minimum detectable effect sizes (MDES)\n",
    "esz = effect_size(design = \"its_wcompare\", rho2=RHO2, T=T, n=N, K=K, r22=R22, tf=TF, g=G,q=Q)\n",
    "\n",
    "\n",
    "f\"Power: {pwr:0.3f} | Sample Size: {ssz} | Effect Size: {esz:0.3f}\""
   ],
   "metadata": {
    "collapsed": false,
    "pycharm": {
     "name": "#%%\n"
    }
   }
  }
 ],
 "metadata": {
  "kernelspec": {
   "display_name": "Python 3",
   "language": "python",
   "name": "python3"
  },
  "language_info": {
   "codemirror_mode": {
    "name": "ipython",
    "version": 2
   },
   "file_extension": ".py",
   "mimetype": "text/x-python",
   "name": "python",
   "nbconvert_exporter": "python",
   "pygments_lexer": "ipython2",
   "version": "2.7.6"
  }
 },
 "nbformat": 4,
 "nbformat_minor": 0
}