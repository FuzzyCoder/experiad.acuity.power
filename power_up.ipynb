{
 "cells": [
  {
   "cell_type": "code",
   "metadata": {
    "collapsed": true,
    "pycharm": {
     "name": "#%%\n"
    }
   },
   "source": [
    "from pypowerup import effect_size, power, sample_size\n",
    "\n",
    "\n",
    "# sample_size, i.e., minimum required samples sizes (MRSS) for level 3 units\n",
    "sample_size(design=\"its_wcompare\", es=0.44803335835368546, rho2=0.03, T=5, n=75, r22=0, tf=2, g=0, q=2)"
   ],
   "execution_count": 1,
   "outputs": [
    {
     "data": {
      "text/plain": "10"
     },
     "execution_count": 1,
     "metadata": {},
     "output_type": "execute_result"
    }
   ]
  },
  {
   "cell_type": "markdown",
   "source": [
    "# Parameters for CITS\n",
    "## effect_size()\n",
    "design\n",
    "n\n",
    "power = 0.8\n",
    "alpha = 0.05\n",
    "twotailed = True\n",
    "K = 10\n",
    "T = 0\n",
    "g = 0\n",
    "q = 0\n",
    "rho2 = 0.1\n",
    "r22 = 0\n",
    "tf = 0\n",
    "\n",
    "## power()\n",
    "design\n",
    "n\n",
    "es = 0.25\n",
    "alpha = 0.05\n",
    "twotailed = True\n",
    "K = 10\n",
    "T = 0\n",
    "g = 0\n",
    "q = 0\n",
    "rho2 = 0.1\n",
    "r22 = 0\n",
    "tf = 0\n",
    "\n",
    "## samplesize()\n",
    "design\n",
    "n\n",
    "power = 0.8\n",
    "alpha = 0.05\n",
    "twotailed = True\n",
    "maxiter = 500\n",
    "tol = 0.1\n",
    "K = 5\n",
    "T = 0\n",
    "g = 0\n",
    "q = 0\n",
    "rho2 = 0.1\n",
    "r22 = 0\n",
    "tf = 0"
   ],
   "metadata": {
    "collapsed": false,
    "pycharm": {
     "name": "#%% md\n"
    }
   }
  },
  {
   "cell_type": "code",
   "execution_count": null,
   "outputs": [],
   "source": [],
   "metadata": {
    "collapsed": false,
    "pycharm": {
     "name": "#%%\n"
    }
   }
  },
  {
   "cell_type": "code",
   "execution_count": 2,
   "outputs": [
    {
     "data": {
      "text/plain": "'Sample Size: 42'"
     },
     "execution_count": 2,
     "metadata": {},
     "output_type": "execute_result"
    }
   ],
   "source": [
    "from pypowerup import effect_size, power, sample_size\n",
    "\n",
    "\n",
    "DESIGN = \"its_wcompare\" # Interrupted Time Series With Comparison Group\n",
    "ES = 0.25               # Minimum detectable effect size\n",
    "RHO2 = 0.03             # Proportion of variance in outcome among Level 2 units.\n",
    "T = 36                  # The number of baseline periods. The number of periods prior to intervention for which the baseline, or pre-intervention, trend is established.\n",
    "N = 10                  # Number of level 1 units or average Sample Size for Level 1. For example, if the design is IRA, n is the total sample size of both treatment and control group.\n",
    "K = 12                  # Number of level 3 units or average Sample Size for Level 3.\n",
    "R22 = 0.01              # Proportion of variance in Level 2 outcome explained by Level 2 covariates.\n",
    "TF = 12                 # Period in which the outcomes are to be compared (i.e., “0” would indicate the period that treatment occurs; “1” would indicate the first period following the treatment).\n",
    "G = 1                   # Number of covariates at the highest level\n",
    "Q = 1                   # Ratio of comparison units to experimental units (q). (# comparison groups / # program groups) at block level.\n",
    "MAX_ITER = 1000\n",
    "TOL = 0.1\n",
    "PWR = 0.8\n",
    "ALPHA = 0.05\n",
    "TT = True\n",
    "\n",
    "# sample_size, i.e., minimum required samples sizes (MRSS) for level 3 units\n",
    "ssz = sample_size(design=DESIGN, alpha=ALPHA, power=PWR, es=ES, n=N, rho2=RHO2, T=T, r22=R22, tf=TF, g=G, q=Q, two_tailed=TT, max_iter=MAX_ITER, tol=TOL)\n",
    "\n",
    "f\"Sample Size: {ssz}\"\n",
    "\n",
    "\n",
    "# f\"Power: {pwr:0.3f} | Sample Size: {ssz} | Effect Size: {esz:0.3f}\""
   ],
   "metadata": {
    "collapsed": false,
    "pycharm": {
     "name": "#%%\n"
    }
   }
  },
  {
   "cell_type": "code",
   "execution_count": null,
   "outputs": [],
   "source": [
    "pwr = power(design=DESIGN, es=ES, rho2=RHO2, T=T, n=N, K=K, r22=R22, tf=TF, g=G, q=Q)\n",
    "# effect size, i.e., minimum detectable effect sizes (MDES)\n",
    "esz = effect_size(design=\"its_wcompare\", rho2=RHO2, T=T, n=N, K=K, r22=R22, tf=TF, g=G, q=Q)"
   ],
   "metadata": {
    "collapsed": false,
    "pycharm": {
     "name": "#%%\n"
    }
   }
  }
 ],
 "metadata": {
  "kernelspec": {
   "display_name": "Python 3",
   "language": "python",
   "name": "python3"
  },
  "language_info": {
   "codemirror_mode": {
    "name": "ipython",
    "version": 2
   },
   "file_extension": ".py",
   "mimetype": "text/x-python",
   "name": "python",
   "nbconvert_exporter": "python",
   "pygments_lexer": "ipython2",
   "version": "2.7.6"
  }
 },
 "nbformat": 4,
 "nbformat_minor": 0
}